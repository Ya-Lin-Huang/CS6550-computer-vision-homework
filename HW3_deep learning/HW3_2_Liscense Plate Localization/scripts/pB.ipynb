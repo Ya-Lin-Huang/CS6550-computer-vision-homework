{
  "nbformat": 4,
  "nbformat_minor": 0,
  "metadata": {
    "colab": {
      "name": "pB .ipynb",
      "provenance": [],
      "collapsed_sections": []
    },
    "kernelspec": {
      "name": "python3",
      "display_name": "Python 3"
    },
    "language_info": {
      "codemirror_mode": {
        "name": "ipython",
        "version": 3
      },
      "file_extension": ".py",
      "mimetype": "text/x-python",
      "name": "python",
      "nbconvert_exporter": "python",
      "pygments_lexer": "ipython3",
      "version": "3.7.4"
    },
    "accelerator": "GPU"
  },
  "cells": [
    {
      "cell_type": "markdown",
      "metadata": {
        "colab_type": "text",
        "id": "cInhE-xoirT4"
      },
      "source": [
        "# Download Data"
      ]
    },
    {
      "cell_type": "code",
      "metadata": {
        "colab_type": "code",
        "id": "LnEXC1r3irT6",
        "outputId": "44625240-0edb-47b3-b975-23fd3f373c98",
        "colab": {
          "base_uri": "https://localhost:8080/",
          "height": 306
        }
      },
      "source": [
        "!wget -nc 140.114.76.113:8000/ccpd6000.zip\n",
        "!unzip -nq ccpd6000.zip\n",
        "!ls -alh"
      ],
      "execution_count": 7,
      "outputs": [
        {
          "output_type": "stream",
          "text": [
            "--2019-12-11 15:50:32--  http://140.114.76.113:8000/ccpd6000.zip\n",
            "Connecting to 140.114.76.113:8000... connected.\n",
            "HTTP request sent, awaiting response... 200 OK\n",
            "Length: 332013713 (317M) [application/zip]\n",
            "Saving to: ‘ccpd6000.zip’\n",
            "\n",
            "ccpd6000.zip        100%[===================>] 316.63M  10.6MB/s    in 31s     \n",
            "\n",
            "2019-12-11 15:51:02 (10.3 MB/s) - ‘ccpd6000.zip’ saved [332013713/332013713]\n",
            "\n",
            "total 317M\n",
            "drwxr-xr-x 1 root root 4.0K Dec 11 15:51 .\n",
            "drwxr-xr-x 1 root root 4.0K Dec 11 15:49 ..\n",
            "drwxr-xr-x 4 root root 4.0K Nov 19 11:35 ccpd6000\n",
            "-rw-r--r-- 1 root root 317M Nov 19 11:44 ccpd6000.zip\n",
            "drwxr-xr-x 1 root root 4.0K Dec  6 16:53 .config\n",
            "drwxr-xr-x 1 root root 4.0K Dec  6 16:53 sample_data\n"
          ],
          "name": "stdout"
        }
      ]
    },
    {
      "cell_type": "code",
      "metadata": {
        "colab_type": "code",
        "id": "WZtweNpxirT9",
        "outputId": "b6889f18-e7db-4df7-e0d8-788e87f99e14",
        "colab": {
          "base_uri": "https://localhost:8080/",
          "height": 34
        }
      },
      "source": [
        "!sha256sum ccpd6000.zip"
      ],
      "execution_count": 8,
      "outputs": [
        {
          "output_type": "stream",
          "text": [
            "977d7124a53e565c3f2b371a871ee04ebbe572f07deb0b38c5548ddaae0cb2c9  ccpd6000.zip\n"
          ],
          "name": "stdout"
        }
      ]
    },
    {
      "cell_type": "markdown",
      "metadata": {
        "colab_type": "text",
        "id": "teZfRHEQirT-"
      },
      "source": [
        "# Init and Utility"
      ]
    },
    {
      "cell_type": "code",
      "metadata": {
        "colab_type": "code",
        "id": "_OmKNlUIirT_",
        "colab": {}
      },
      "source": [
        "import random\n",
        "import numpy as np\n",
        "import pandas as pd\n",
        "from pathlib import Path\n",
        "from datetime import datetime\n",
        "import matplotlib.pyplot as plt\n",
        "from PIL import Image, ImageDraw\n",
        "from IPython import display\n",
        "import glob\n",
        "import torch\n",
        "from torch import nn\n",
        "from torch.nn import functional as F\n",
        "from torchvision.transforms import functional as tf\n",
        "from torch.utils.data import DataLoader, Dataset, Subset, ConcatDataset\n",
        "import cv2\n",
        "from PIL import Image\n",
        "from tqdm import tqdm\n",
        "# Fix the seed for reproducibility\n",
        "seed = 999\n",
        "random.seed(seed)\n",
        "np.random.seed(seed)\n",
        "torch.manual_seed(seed)\n",
        "torch.backends.cudnn.deterministic = True\n",
        "\n",
        "# Some constants\n",
        "FIELDS = ['BR_x', 'BR_y', 'BL_x', 'BL_y', 'TL_x', 'TL_y', 'TR_x', 'TR_y'] # the fields in csv\n",
        "IMG_SIZE = (192, 320) # the input image size (width, height) of the model\n",
        "ROOT_DIR = './ccpd6000/' # the root directory of the dataset"
      ],
      "execution_count": 0,
      "outputs": []
    },
    {
      "cell_type": "markdown",
      "metadata": {
        "colab_type": "text",
        "id": "VQFxz8gFirUB"
      },
      "source": [
        "### Function"
      ]
    },
    {
      "cell_type": "code",
      "metadata": {
        "colab_type": "code",
        "id": "EMkaC1XnirUC",
        "colab": {}
      },
      "source": [
        "def draw_kpts(img, kpts, c='red', r=2.0):\n",
        "    '''\n",
        "    Draw `kpts` on `img`. `img` is modified inplace.\n",
        "    Args:\n",
        "        img: (PIL.Image) the image to be drawn\n",
        "        kpts: (torch.tensor) the normalized positions (x, y) of keypoints, shaped [4, 2]\n",
        "        c: (str) color\n",
        "        r: (float) radius of the drawn circle\n",
        "    Return:\n",
        "        img: (PIL.Image) the result.\n",
        "    '''\n",
        "    draw = ImageDraw.Draw(img)\n",
        "    size = torch.tensor([img.size]).float()\n",
        "    kpts = kpts.view(4, 2) * size\n",
        "    kpts = kpts.numpy().tolist()\n",
        "    for x, y in kpts:\n",
        "        draw.ellipse([x - r, y - r, x + r, y + r], fill=c)\n",
        "    return img"
      ],
      "execution_count": 0,
      "outputs": []
    },
    {
      "cell_type": "markdown",
      "metadata": {
        "colab_type": "text",
        "id": "ZYldSaD_irUD"
      },
      "source": [
        "# Part 1 : \n",
        "##### Training the model and select the model with best performance"
      ]
    },
    {
      "cell_type": "markdown",
      "metadata": {
        "colab_type": "text",
        "id": "dQiHSBn2irUE"
      },
      "source": [
        "### Training Data"
      ]
    },
    {
      "cell_type": "code",
      "metadata": {
        "colab_type": "code",
        "id": "YYZtFLU2irUF",
        "colab": {}
      },
      "source": [
        "class TrainData(Dataset):\n",
        "    def __init__(self, csv_path, img_dir):\n",
        "        super().__init__()\n",
        "        self.anns = pd.read_csv(csv_path).to_dict('records') # List of Dict\n",
        "        self.img_dir = img_dir+'/'\n",
        "\n",
        "    def __len__(self):\n",
        "        '''Return the number of sample\n",
        "        '''\n",
        "        return len(self.anns)\n",
        "\n",
        "    def __getitem__(self, idx):\n",
        "        '''Map index `idx` to a sample, i.e., an image and its keypoints\n",
        "\n",
        "        Args:\n",
        "            idx: (int) index\n",
        "        Return:\n",
        "            img: (torch.FloatTensor) values in 0 ~ 1 and shaped [3, H, W]\n",
        "            kpt: (torch.FloatTensor) normalized positions of \n",
        "                bottom-right, bottom-left, top-left, top-right corners. \n",
        "                For example, position (256, 256) of an (512, 512) image should be (0.5, 0.5)\n",
        "                `kpt` should have same order as `FIELDS` and is shaped [8].\n",
        "        '''\n",
        "        def changeDim(old):\n",
        "            '[H,W,3] -> [3,H,W]'\n",
        "            a,b,c = old[:,:,0],old[:,:,1],old[:,:,2]\n",
        "            return  np.array([a,b,c])\n",
        "            \n",
        "        imgPath = self.img_dir+self.anns[idx]['name']\n",
        "        img = cv2.imread(imgPath,cv2.IMREAD_UNCHANGED)\n",
        "        img = cv2.cvtColor(img,cv2.COLOR_BGR2RGB)\n",
        "        img1 = cv2.resize(img/255.0,dsize=(IMG_SIZE[0],IMG_SIZE[1]))\n",
        "        H,W = img.shape[0],img.shape[1]\n",
        "#        norm_img = cv2.normalize(img1, None, alpha=0, beta=1, norm_type=cv2.NORM_MINMAX, dtype=cv2.CV_32F)\n",
        "        norm_img = changeDim(img1)\n",
        "        Dict = self.anns[idx]\n",
        "        kpt = [Dict['BR_x']/W,Dict['BR_y']/H,Dict['BL_x']/W,Dict['BL_y']/H,\\\n",
        "               Dict['TL_x']/W,Dict['TL_y']/H,Dict['TR_x']/W,Dict['TR_y']/H]\n",
        "        norm_img= torch.FloatTensor(norm_img)\n",
        "        kpt = torch.FloatTensor(kpt)\n",
        "        return norm_img, kpt"
      ],
      "execution_count": 0,
      "outputs": []
    },
    {
      "cell_type": "code",
      "metadata": {
        "colab_type": "code",
        "id": "ACwWRc8iirUG",
        "outputId": "74bb731d-a3b7-408f-93af-6f67d6d64a7f",
        "colab": {
          "base_uri": "https://localhost:8080/",
          "height": 337
        }
      },
      "source": [
        "# do some checking and visualization\n",
        "data = TrainData(ROOT_DIR + '/train.csv', ROOT_DIR + '/train_images')\n",
        "print(len(data))    # should be 3000\n",
        "\n",
        "img, kpt = data[0] # get a sample\n",
        "print(img.size())   # should be [3, H, W]\n",
        "print(img.max())    # should be <= 1.0\n",
        "print(kpt.size())   # should be [8]\n",
        "\n",
        "img = tf.to_pil_image(img) # convert tensor of shape (3, H, W) to PIL.Image\n",
        "vis = draw_kpts(img, kpt, c='orange')\n",
        "plt.imshow(vis)\n",
        "plt.show()"
      ],
      "execution_count": 12,
      "outputs": [
        {
          "output_type": "stream",
          "text": [
            "3000\n",
            "torch.Size([3, 320, 192])\n",
            "tensor(1.)\n",
            "torch.Size([8])\n"
          ],
          "name": "stdout"
        },
        {
          "output_type": "display_data",
          "data": {
            "image/png": "[encoded data removed]",
            "text/plain": [
              "<Figure size 432x288 with 1 Axes>"
            ]
          },
          "metadata": {
            "tags": []
          }
        }
      ]
    },
    {
      "cell_type": "markdown",
      "metadata": {
        "colab_type": "text",
        "id": "BhZxXBoQirUJ"
      },
      "source": [
        "### TRIANING MODEL"
      ]
    },
    {
      "cell_type": "markdown",
      "metadata": {
        "colab_type": "text",
        "id": "7Jk3ozl3irUK"
      },
      "source": [
        "1. function that will used in model \n",
        "2. the moedel "
      ]
    },
    {
      "cell_type": "markdown",
      "metadata": {
        "colab_type": "text",
        "id": "fi1NmRNbirUK"
      },
      "source": [
        "#### 1. Function"
      ]
    },
    {
      "cell_type": "code",
      "metadata": {
        "colab_type": "code",
        "id": "dU2zWoDfirUL",
        "colab": {}
      },
      "source": [
        "class ConvBlock(nn.Module):\n",
        "    def __init__(self, cin, cout):\n",
        "        super().__init__() # necessary\n",
        "        self.conv = nn.Conv2d(cin, cout, (3, 3), padding=1)\n",
        "        self.bn = nn.BatchNorm2d(cout)\n",
        "        self.relu = nn.ReLU()\n",
        "\n",
        "    def forward(self, x):\n",
        "        x = self.conv(x)\n",
        "        x = self.bn(x)\n",
        "        x = self.relu(x)\n",
        "        return x\n",
        "class Flatten(torch.nn.Module):\n",
        "    def forward(self, x):\n",
        "        batch_size = x.shape[0]\n",
        "        return x.view(batch_size, -1)\n"
      ],
      "execution_count": 0,
      "outputs": []
    },
    {
      "cell_type": "markdown",
      "metadata": {
        "colab_type": "text",
        "id": "qHXDoM13irUN"
      },
      "source": [
        "#### 2. Model"
      ]
    },
    {
      "cell_type": "code",
      "metadata": {
        "colab_type": "code",
        "id": "PI0GCL7iirUN",
        "colab": {}
      },
      "source": [
        "class Net(nn.Module):\n",
        "    def __init__(self):\n",
        "        '''Defines parameters (what layers you gonna use)\n",
        "        '''\n",
        "        super().__init__() # necessary\n",
        "        self.features = nn.Sequential(\n",
        "            ConvBlock(3, 32),\n",
        "            ConvBlock(32, 32),\n",
        "            nn.MaxPool2d((4, 4)),\n",
        "            ConvBlock(32, 32),\n",
        "            ConvBlock(32, 32),\n",
        "            nn.MaxPool2d((2, 2)),\n",
        "            ConvBlock(32, 32),\n",
        "            ConvBlock(32, 32),\n",
        "            nn.MaxPool2d((2, 2)),\n",
        "            ConvBlock(32, 32),\n",
        "            ConvBlock(32, 32),\n",
        "            nn.MaxPool2d((2, 2)),\n",
        "            ConvBlock(32, 32),\n",
        "            ConvBlock(32, 32),\n",
        "            nn.MaxPool2d((2, 2)),\n",
        "        )\n",
        "        self.regression = nn.Sequential(\n",
        "            Flatten(), nn.Linear(480, 32), nn.ReLU(), nn.Linear(32, 8), nn.Sigmoid()\n",
        "        )\n",
        "\n",
        "    def forward(self, img_b):\n",
        "        '''Define how layers are interact, that is, the forward function.\n",
        "        In this network, img_b is passed to self.features and \n",
        "        the result is passed to self.regression.\n",
        "\n",
        "        Args:\n",
        "            img_b: (torch.FloatTensor) input images (mini-batch), shaped [N, 3, H, W]\n",
        "        Return:\n",
        "            kpt_b: (torch.FloatTensor) the predictions (mini-batch), shaped [N, 8]\n",
        "        '''\n",
        "#        print(img_b.size())\n",
        "        fea = self.features(img_b)\n",
        "        pred = self.regression(fea)\n",
        "        return pred"
      ],
      "execution_count": 0,
      "outputs": []
    },
    {
      "cell_type": "code",
      "metadata": {
        "colab_type": "code",
        "id": "xPt-_zAoirUP",
        "outputId": "7163d630-1825-4300-f9de-f4168797b0cd",
        "colab": {
          "base_uri": "https://localhost:8080/",
          "height": 68
        }
      },
      "source": [
        "# Do some checking\n",
        "loader = DataLoader(data, batch_size=10) # dataloader constructs mini-batch from a dataset\n",
        "img_b, kpt_b = next(iter(loader)) # get an mini-batch\n",
        "print(img_b.size()) # expects [N, 3, H, W]\n",
        "print(kpt_b.size()) # expects [N, 8]\n",
        "\n",
        "# Do a forwarding\n",
        "#device = 'cuda'     # the computing device, 'cuda' or 'cpu'\n",
        "device = torch.device(\"cuda\" if torch.cuda.is_available() else \"cpu\")\n",
        "model = Net().to(device) # instantiate network and move it to device\n",
        "criterion = nn.MSELoss()  # the criterion (loss function)\n",
        "\n",
        "img_b = img_b.to(device)\n",
        "kpt_b = kpt_b.to(device)\n",
        "pred_b = model(img_b)\n",
        "loss = criterion(pred_b, kpt_b)\n",
        "print(loss)"
      ],
      "execution_count": 15,
      "outputs": [
        {
          "output_type": "stream",
          "text": [
            "torch.Size([10, 3, 320, 192])\n",
            "torch.Size([10, 8])\n",
            "tensor(0.0249, device='cuda:0', grad_fn=<MseLossBackward>)\n"
          ],
          "name": "stdout"
        }
      ]
    },
    {
      "cell_type": "markdown",
      "metadata": {
        "colab_type": "text",
        "id": "HFn3xOXkirUR"
      },
      "source": [
        "## Start to train!!"
      ]
    },
    {
      "cell_type": "code",
      "metadata": {
        "id": "oPa0bCashRvw",
        "colab_type": "code",
        "colab": {}
      },
      "source": [
        "class Trainer:\n",
        "    def __init__(self, log_dir,bz,lr1,MAXEPOCH,NUMWORKER):\n",
        "        '''Initialize the varibles for training\n",
        "        Args:\n",
        "            log_dir: (pathlib.Path) the direction used for logging\n",
        "        '''\n",
        "        self.log_dir = log_dir\n",
        "        self.bz,self.lr1,self.NUMWORKER = bz,lr1,NUMWORKER\n",
        "\n",
        "        # Datasets and dataloaders\n",
        "        # 1. Split the whole training data into train and valid (validation)\n",
        "        # 2. Construct visualization data (25 training samples, 25 validation samples)\n",
        "        # 3. Make the corresponding dataloaders\n",
        "        data = TrainData(ROOT_DIR + 'train.csv', ROOT_DIR + 'train_images')\n",
        "        pivot = len(data) * 4 // 5\n",
        "        self.train_set = Subset(data, range(0, pivot))\n",
        "        self.valid_set = Subset(data, range(pivot, len(data)))\n",
        "        self.visul_set = ConcatDataset(\n",
        "            [\n",
        "                Subset(self.train_set, random.sample(range(len(self.train_set)), k=25)),\n",
        "                Subset(self.valid_set, random.sample(range(len(self.valid_set)), k=25)),\n",
        "            ]\n",
        "        )\n",
        "        self.train_loader = DataLoader(self.train_set, bz, shuffle=True, num_workers=self.NUMWORKER)\n",
        "        self.valid_loader = DataLoader(self.valid_set, bz, shuffle=False, num_workers=self.NUMWORKER)\n",
        "        self.visul_loader = DataLoader(self.visul_set, bz, shuffle=False)\n",
        "\n",
        "        # model, loss function, optimizer\n",
        "        self.device = 'cuda'\n",
        "        self.model = Net().to(self.device)\n",
        "        self.criterion = nn.MSELoss()\n",
        "        self.optimizer = torch.optim.Adam(self.model.parameters(), lr=lr1)\n",
        "        self.max_epoch = MAXEPOCH\n",
        "        self.minloss =10 \n",
        "        self.bestCOM = ''\n",
        "        self.bestDir = ''\n",
        "    def run(self):\n",
        "        metrics = {'train_loss': [], 'valid_loss': []}\n",
        "        for self.epoch in range(self.max_epoch): # 5 epochs\n",
        "            train_loss = self.train() # train 1 epoch\n",
        "            valid_loss = self.valid() # valid 1 epoch\n",
        "            self.visul()              # visualization\n",
        "\n",
        "            print(f'Epoch {self.epoch:03d}:')\n",
        "            print('train loss:', train_loss)\n",
        "            print('valid loss:', valid_loss)\n",
        "            metrics['train_loss'].append(train_loss)\n",
        "            metrics['valid_loss'].append(valid_loss)\n",
        "            if valid_loss<self.minloss:\n",
        "                self.minloss=valid_loss\n",
        "                # Save the parameters(weights) of the model to disk\n",
        "                modDir = self.log_dir/'{}-{}-{:.3f}.pkl'.format(self.bz,self.lr1,self.minloss)\n",
        "                torch.save({'model_dict':self.model.state_dict(),\n",
        "                            'optim_dict':self.optimizer.state_dict()\n",
        "                            },modDir)\n",
        "                self.bestCOM='bz{}-lr{}-{:.3f}'.format(self.bz,self.lr1,self.minloss)\n",
        "                self.bestDir = modDir\n",
        "        print('best:'+self.bestCOM)\n",
        "                \n",
        "        # Plot the loss curve against epoch\n",
        "        plt.figure(figsize=(8,5))\n",
        "        plt.plot(metrics['train_loss'], label='Training Loss')\n",
        "        plt.plot(metrics['valid_loss'], label='Validation Loss')\n",
        "        plt.title('Loss Plot',fontsize=15)\n",
        "        plt.legend(loc=0)\n",
        "        plt.xlabel('Epoch')\n",
        "        plt.ylabel('Loss')\n",
        "\n",
        "    def train(self):\n",
        "        '''Train one epoch\n",
        "        1. Switch model to training mode\n",
        "        2. Iterate mini-batches and do:\n",
        "            a. clear gradient\n",
        "            b. forward to get loss\n",
        "            c. loss backward\n",
        "            d. update parameters\n",
        "        3. Return the average loss in this epoch\n",
        "        '''\n",
        "        self.model.train()\n",
        "        loss_epo = []\n",
        "        PRED=[]\n",
        "        GND=[]\n",
        "        for x_batch,y_batch in tqdm(self.train_loader):\n",
        "            x_batch = x_batch.to(device)\n",
        "            y_batch = y_batch.to(device)\n",
        "            \n",
        "            self.optimizer.zero_grad()\n",
        "            ps = self.model(x_batch)\n",
        "            loss = criterion(ps, y_batch)\n",
        "            loss.backward()\n",
        "            self.optimizer.step()\n",
        "            loss = loss.detach().cpu().numpy()\n",
        "            loss_epo.append(loss)\n",
        "            PRED.append(ps.detach().cpu().numpy())\n",
        "            GND.append(y_batch.detach().cpu().numpy())\n",
        "#            print('train loss:%.4f'%loss)\n",
        "        loss_epo = np.array(loss_epo).mean()\n",
        "#        print('rmse:',RMSE(PRED,GND))\n",
        "        return loss_epo\n",
        "    @torch.no_grad()\n",
        "    def valid(self):\n",
        "        '''Validate one epoch\n",
        "        1. Switch model to evaluation mode and turn off gradient (by @torch.no_grad() or with torch.no_grad())\n",
        "        2. Iterate mini-batches and do forwarding to get loss\n",
        "        3. Return average loss in this epoch\n",
        "        '''\n",
        "        self.model.eval()\n",
        "        loss_epo =[]\n",
        "        for x_batch,y_batch in tqdm(self.valid_loader):\n",
        "            x_batch = x_batch.to(device)\n",
        "            y_batch = y_batch.to(device)\n",
        "            ps = self.model(x_batch)\n",
        "            loss = criterion(ps, y_batch)\n",
        "            loss = loss.detach().cpu().numpy()\n",
        "            loss_epo.append(loss)\n",
        "#            print('validation loss:%.4f'%loss)\n",
        "        loss_epo = np.array(loss_epo).mean()\n",
        "        return loss_epo\n",
        "    @torch.no_grad()\n",
        "    def visul(self):\n",
        "        ''' Visualize some samples\n",
        "        1. Switch model to evaluation mode and turn off gradient (by @torch.no_grad() or with torch.no_grad())\n",
        "        2. Iterate mini-batches and do:\n",
        "            a. forward to get predictions\n",
        "            b. visualize and save visualization to log_dir / f'{epoch:03d}'\n",
        "        As a result, first 25 samples are from training data and last 25 samples are from validation.\n",
        "        '''\n",
        "        self.model.eval()\n",
        "        epoch_dir = self.log_dir / f'{self.epoch:03d}'\n",
        "        epoch_dir.mkdir(parents=True)\n",
        "        idx = 0\n",
        "        for img_b, kpt_b in iter(self.visul_loader):\n",
        "            pred_b = self.model(img_b.to(self.device)).to('cpu')\n",
        "            for img, kpt, pred in zip(img_b, kpt_b, pred_b):\n",
        "                img = tf.to_pil_image(img)\n",
        "                vis = draw_kpts(img, kpt, c='orange')\n",
        "                vis = draw_kpts(img, pred, c='red')\n",
        "                plt.imshow(vis)\n",
        "                plt.show()\n",
        "                vis.save(epoch_dir / f'{idx:03d}.jpg')\n",
        "                idx += 1\n",
        "                "
      ],
      "execution_count": 0,
      "outputs": []
    },
    {
      "cell_type": "code",
      "metadata": {
        "colab_type": "code",
        "id": "Bp6eN_MPirUT",
        "colab": {}
      },
      "source": [
        "def RMSE(PRED,GND):\n",
        "    return np.sqrt(((np.array(PRED)-np.array(GND))**2).mean())"
      ],
      "execution_count": 0,
      "outputs": []
    },
    {
      "cell_type": "markdown",
      "metadata": {
        "colab_type": "text",
        "id": "SevwVBBuirUV"
      },
      "source": [
        "#### HYPERPARAMETER SETTING "
      ]
    },
    {
      "cell_type": "markdown",
      "metadata": {
        "colab_type": "text",
        "id": "irJqVW9rirUW"
      },
      "source": [
        "Setting the hyperparameter to do some grid serch.\n",
        "\n",
        "After finish the searching,\n",
        "it will print out which combination of the hyperparameters will lead to least validation loss."
      ]
    },
    {
      "cell_type": "code",
      "metadata": {
        "colab_type": "code",
        "id": "yLL4qFOgirUY",
        "outputId": "5dad986d-b338-4b38-bfe8-3fe163a4493b",
        "colab": {
          "base_uri": "https://localhost:8080/",
          "height": 51
        }
      },
      "source": [
        "log_dir = Path('./runs/') / f'{datetime.now():%b.%d-%H_%M_%S}'\n",
        "log_dir.mkdir(parents=True)\n",
        "MAXEPOCH = 40\n",
        "BZ= [32]\n",
        "LR = [ 1e-3]\n",
        "NUMWORKER=8\n",
        "minloss=0\n",
        "for bz in BZ:\n",
        "    for lr1 in LR: \n",
        "        log_dir = Path('./runs/') / f'{datetime.now():%b.%d-%H_%M_%S}'/'{}-{}'.format(bz,lr1)\n",
        "        log_dir.mkdir(parents=True)\n",
        "        train=Trainer(log_dir,bz,lr1,MAXEPOCH,NUMWORKER)\n",
        "        train.run()\n",
        "        #if train.minloss < minloss:\n",
        "          #minloss = train.minloss\n",
        "        bestCOM = train.bestCOM\n",
        "        bestDir = train.bestDir\n",
        "print('best:',bestCOM)"
      ],
      "execution_count": 0,
      "outputs": [
        {
          "output_type": "stream",
          "text": [
            "100%|██████████| 75/75 [00:42<00:00,  3.49it/s]\n",
            "  0%|          | 0/19 [00:00<?, ?it/s]"
          ],
          "name": "stderr"
        }
      ]
    },
    {
      "cell_type": "markdown",
      "metadata": {
        "colab_type": "text",
        "id": "g_JUNtuDirUb"
      },
      "source": [
        "# Part 2 :"
      ]
    },
    {
      "cell_type": "markdown",
      "metadata": {
        "colab_type": "text",
        "id": "qQ_v5kprirUb"
      },
      "source": [
        "## Testing"
      ]
    },
    {
      "cell_type": "markdown",
      "metadata": {
        "colab_type": "text",
        "id": "LKrcVHD2irUc"
      },
      "source": [
        "Use the unlabled data to test the model I selecetd, and will upload the result of predicion to the server in the end."
      ]
    },
    {
      "cell_type": "markdown",
      "metadata": {
        "colab_type": "text",
        "id": "1a1LljdrirUc"
      },
      "source": [
        "##### Testing Data"
      ]
    },
    {
      "cell_type": "code",
      "metadata": {
        "colab_type": "code",
        "id": "fqVzJMIcirUd",
        "colab": {}
      },
      "source": [
        "class TestData(Dataset):\n",
        "    def __init__(self):\n",
        "        super().__init__()\n",
        "        self.img_dir = glob.glob('./ccpd6000/test_images/*.jpg')\n",
        "\n",
        "    def __len__(self):\n",
        "        return len(self.img_dir)\n",
        "\n",
        "    def __getitem__(self, idx):\n",
        "\n",
        "        def changeDim(old):\n",
        "            '[H,W,3] -> [3,H,W]'\n",
        "            a,b,c = old[:,:,0],old[:,:,1],old[:,:,2]\n",
        "            return  np.array([a,b,c])\n",
        "            \n",
        "        imgPath = self.img_dir[idx]\n",
        "        img = cv2.imread(imgPath,cv2.IMREAD_UNCHANGED)\n",
        "        img = cv2.cvtColor(img,cv2.COLOR_BGR2RGB)\n",
        "        Shape = img.shape[:2]\n",
        "        img1 = cv2.resize(img/255.0,dsize=(IMG_SIZE[0],IMG_SIZE[1]))\n",
        "#        norm_img = cv2.normalize(img1, None, alpha=0, beta=1, norm_type=cv2.NORM_MINMAX, dtype=cv2.CV_32F)\n",
        "        norm_img = changeDim(img1)\n",
        "        norm_img= torch.FloatTensor(norm_img)\n",
        "        name = imgPath.split('/')[-1]\n",
        "        return norm_img,name,Shape"
      ],
      "execution_count": 0,
      "outputs": []
    },
    {
      "cell_type": "markdown",
      "metadata": {
        "colab_type": "text",
        "id": "oFps-nk5irUe"
      },
      "source": [
        "### Testing start !! "
      ]
    },
    {
      "cell_type": "code",
      "metadata": {
        "colab_type": "code",
        "id": "xWjcVEJDirUf",
        "colab": {}
      },
      "source": [
        "class Test:\n",
        "    def __init__(self, log_dir,model_path,NUMWORKER):  \n",
        "        self.log_dir = log_dir\n",
        "        self.NUMWORKER = NUMWORKER\n",
        "        data = TestData()\n",
        "        self.test_loader = DataLoader(data, bz, shuffle=True, num_workers=self.NUMWORKER)\n",
        "        # model, loss function, optimizer\n",
        "        self.device='cuda'\n",
        "        #self.device = torch.device(\"cuda\" if torch.cuda.is_available() else \"cpu\")\n",
        "        self.model = Net().to(self.device)\n",
        "        checkpt = torch.load(model_path,map_location=self.device)\n",
        "        self.model.load_state_dict(checkpt['model_dict'])\n",
        "        self.criterion = nn.MSELoss()\n",
        "        self.optimizer = torch.optim.Adam(self.model.parameters(), lr=lr1)\n",
        "        self.max_epoch = MAXEPOCH\n",
        "        \n",
        "    @torch.no_grad()\n",
        "    def valid(self):\n",
        "        self.model.eval()\n",
        "        LOGCOL = ['name']+FIELDS\n",
        "        DF = pd.DataFrame()\n",
        "        for x_batch,name_batch,(H_batch,W_batch) in tqdm(self.test_loader):\n",
        "            x_batch = x_batch.to(device)\n",
        "            name_batch = name_batch\n",
        "            ps = self.model(x_batch)\n",
        "            ps = self.resize(ps,H_batch,W_batch)\n",
        "            tmp = np.hstack((np.array(list(name_batch)).reshape(-1,1),np.array(ps)))\n",
        "            DF=DF.append(pd.DataFrame(tmp,columns =LOGCOL) )\n",
        "        DF = DF.sort_values(by=['name'])\n",
        "        return DF\n",
        "    def resize(self,ps_batch,H_batch,W_batch):\n",
        "        PS = []\n",
        "        ps_batch=ps_batch.detach().cpu().numpy()\n",
        "        for ps, H,W in zip(ps_batch,H_batch,W_batch):\n",
        "            H,W = H.detach().cpu().numpy(), W.detach().cpu().numpy()\n",
        "            BR_x,BR_y,BL_x,BL_y,TL_x,TL_y,TR_x,TR_y = ps\n",
        "            PS.append([BR_x*W,BR_y*H,BL_x*W,BL_y*H,TL_x*W,TL_y*H,TR_x*W,TR_y*H])\n",
        "        return PS\n",
        "    \n",
        "    def outfile(self):\n",
        "        df = self.valid()\n",
        "        df.to_csv (self.log_dir, index = None, header=True)"
      ],
      "execution_count": 0,
      "outputs": []
    },
    {
      "cell_type": "markdown",
      "metadata": {
        "colab_type": "text",
        "id": "LqfBvsyfirUh"
      },
      "source": [
        "choose the path of best model and the logging direction"
      ]
    },
    {
      "cell_type": "code",
      "metadata": {
        "colab_type": "code",
        "id": "LSMTnrSkirUh",
        "colab": {}
      },
      "source": [
        "model_path = bestDir      \n",
        "log_dir = './ccpd6000/sample2.csv'\n",
        "Test(log_dir,model_path,NUMWORKER).outfile()"
      ],
      "execution_count": 0,
      "outputs": []
    },
    {
      "cell_type": "code",
      "metadata": {
        "colab_type": "code",
        "id": "YJFS7AuTirUj",
        "colab": {}
      },
      "source": [
        "!curl -F \"file=@./ccpd6000/sample2.csv\" -X POST 140.114.76.113:5000/cs6550 -i"
      ],
      "execution_count": 0,
      "outputs": []
    },
    {
      "cell_type": "code",
      "metadata": {
        "colab_type": "code",
        "id": "1i_Y1_NjirUn",
        "colab": {}
      },
      "source": [
        ""
      ],
      "execution_count": 0,
      "outputs": []
    }
  ]
}